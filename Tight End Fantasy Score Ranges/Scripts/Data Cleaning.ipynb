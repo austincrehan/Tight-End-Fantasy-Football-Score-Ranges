{
 "cells": [
  {
   "cell_type": "markdown",
   "id": "cf5400a1",
   "metadata": {},
   "source": [
    "# Data cleaning "
   ]
  },
  {
   "cell_type": "code",
   "execution_count": 1,
   "id": "cc2b0e43",
   "metadata": {},
   "outputs": [],
   "source": [
    "# Import libraries\n",
    "import pandas as pd\n",
    "import numpy as np\n",
    "import os"
   ]
  },
  {
   "cell_type": "code",
   "execution_count": 2,
   "id": "a9604b44",
   "metadata": {},
   "outputs": [],
   "source": [
    "#Import data\n",
    "df_qb = pd.read_csv(r'C:\\Users\\User\\Documents\\Final Project\\Data\\Cleaned Data\\QB_clean.csv', encoding='latin1')b"
   ]
  },
  {
   "cell_type": "code",
   "execution_count": 3,
   "id": "fabd34ce",
   "metadata": {},
   "outputs": [
    {
     "name": "stdout",
     "output_type": "stream",
     "text": [
      "<class 'pandas.core.frame.DataFrame'>\n",
      "RangeIndex: 1268 entries, 0 to 1267\n",
      "Data columns (total 18 columns):\n",
      " #   Column    Non-Null Count  Dtype  \n",
      "---  ------    --------------  -----  \n",
      " 0   YEAR      1268 non-null   int64  \n",
      " 1   WEEK      1268 non-null   int64  \n",
      " 2   RANK      1268 non-null   int64  \n",
      " 3   PLAYER    1268 non-null   object \n",
      " 4   CMP       1268 non-null   int64  \n",
      " 5   PASS ATT  1268 non-null   int64  \n",
      " 6   PCT       1268 non-null   float64\n",
      " 7   PASS YDS  1268 non-null   int64  \n",
      " 8   Y/A       1268 non-null   float64\n",
      " 9   PASS TD   1268 non-null   int64  \n",
      " 10  INT       1268 non-null   int64  \n",
      " 11  SACKS     1268 non-null   int64  \n",
      " 12  RUSH ATT  1268 non-null   int64  \n",
      " 13  RUSH YDS  1268 non-null   int64  \n",
      " 14  RUSH TD   1268 non-null   int64  \n",
      " 15  FL        1268 non-null   int64  \n",
      " 16  G         1268 non-null   int64  \n",
      " 17  FPTS      1268 non-null   float64\n",
      "dtypes: float64(3), int64(14), object(1)\n",
      "memory usage: 178.4+ KB\n"
     ]
    }
   ],
   "source": [
    "#Alter data type to minimize data usage\n",
    "df_qb.info()"
   ]
  },
  {
   "cell_type": "code",
   "execution_count": 4,
   "id": "bb768c13",
   "metadata": {},
   "outputs": [],
   "source": [
    "df_qb['WEEK'] = df_qb['WEEK'].astype('float16')\n",
    "df_qb['RANK'] = df_qb['RANK'].astype('float16')\n",
    "df_qb['CMP'] = df_qb['CMP'].astype('float16')\n",
    "df_qb['PASS ATT'] = df_qb['PASS ATT'].astype('float16')\n",
    "df_qb['PCT'] = df_qb['PCT'].astype('float16')\n",
    "df_qb['PASS YDS'] = df_qb['PASS YDS'].astype('float16')\n",
    "df_qb['Y/A'] = df_qb['Y/A'].astype('float16')\n",
    "df_qb['PASS TD'] = df_qb['PASS TD'].astype('float16')\n",
    "df_qb['INT'] = df_qb['INT'].astype('float16')\n",
    "df_qb['SACKS'] = df_qb['SACKS'].astype('float16')\n",
    "df_qb['RUSH ATT'] = df_qb['RUSH ATT'].astype('float16')\n",
    "df_qb['RUSH YDS'] = df_qb['RUSH YDS'].astype('float16')\n",
    "df_qb['FL'] = df_qb['FL'].astype('float16')\n",
    "df_qb['G'] = df_qb['G'].astype('float16')\n",
    "df_qb['FPTS'] = df_qb['FPTS'].astype('float16')"
   ]
  },
  {
   "cell_type": "code",
   "execution_count": 5,
   "id": "7986c8c2",
   "metadata": {},
   "outputs": [
    {
     "name": "stdout",
     "output_type": "stream",
     "text": [
      "<class 'pandas.core.frame.DataFrame'>\n",
      "RangeIndex: 1268 entries, 0 to 1267\n",
      "Data columns (total 18 columns):\n",
      " #   Column    Non-Null Count  Dtype  \n",
      "---  ------    --------------  -----  \n",
      " 0   YEAR      1268 non-null   int64  \n",
      " 1   WEEK      1268 non-null   float16\n",
      " 2   RANK      1268 non-null   float16\n",
      " 3   PLAYER    1268 non-null   object \n",
      " 4   CMP       1268 non-null   float16\n",
      " 5   PASS ATT  1268 non-null   float16\n",
      " 6   PCT       1268 non-null   float16\n",
      " 7   PASS YDS  1268 non-null   float16\n",
      " 8   Y/A       1268 non-null   float16\n",
      " 9   PASS TD   1268 non-null   float16\n",
      " 10  INT       1268 non-null   float16\n",
      " 11  SACKS     1268 non-null   float16\n",
      " 12  RUSH ATT  1268 non-null   float16\n",
      " 13  RUSH YDS  1268 non-null   float16\n",
      " 14  RUSH TD   1268 non-null   int64  \n",
      " 15  FL        1268 non-null   float16\n",
      " 16  G         1268 non-null   float16\n",
      " 17  FPTS      1268 non-null   float16\n",
      "dtypes: float16(15), int64(2), object(1)\n",
      "memory usage: 67.0+ KB\n"
     ]
    }
   ],
   "source": [
    "df_qb.info()"
   ]
  },
  {
   "cell_type": "code",
   "execution_count": 6,
   "id": "3e291428",
   "metadata": {},
   "outputs": [
    {
     "data": {
      "text/plain": [
       "YEAR        0\n",
       "WEEK        0\n",
       "RANK        0\n",
       "PLAYER      0\n",
       "CMP         0\n",
       "PASS ATT    0\n",
       "PCT         0\n",
       "PASS YDS    0\n",
       "Y/A         0\n",
       "PASS TD     0\n",
       "INT         0\n",
       "SACKS       0\n",
       "RUSH ATT    0\n",
       "RUSH YDS    0\n",
       "RUSH TD     0\n",
       "FL          0\n",
       "G           0\n",
       "FPTS        0\n",
       "dtype: int64"
      ]
     },
     "execution_count": 6,
     "metadata": {},
     "output_type": "execute_result"
    }
   ],
   "source": [
    "#Check for missing values\n",
    "df_qb.isnull().sum()"
   ]
  },
  {
   "cell_type": "code",
   "execution_count": 7,
   "id": "5fd127ea",
   "metadata": {},
   "outputs": [
    {
     "data": {
      "text/html": [
       "<div>\n",
       "<style scoped>\n",
       "    .dataframe tbody tr th:only-of-type {\n",
       "        vertical-align: middle;\n",
       "    }\n",
       "\n",
       "    .dataframe tbody tr th {\n",
       "        vertical-align: top;\n",
       "    }\n",
       "\n",
       "    .dataframe thead th {\n",
       "        text-align: right;\n",
       "    }\n",
       "</style>\n",
       "<table border=\"1\" class=\"dataframe\">\n",
       "  <thead>\n",
       "    <tr style=\"text-align: right;\">\n",
       "      <th></th>\n",
       "      <th>YEAR</th>\n",
       "      <th>WEEK</th>\n",
       "      <th>RANK</th>\n",
       "      <th>PLAYER</th>\n",
       "      <th>CMP</th>\n",
       "      <th>PASS ATT</th>\n",
       "      <th>PCT</th>\n",
       "      <th>PASS YDS</th>\n",
       "      <th>Y/A</th>\n",
       "      <th>PASS TD</th>\n",
       "      <th>INT</th>\n",
       "      <th>SACKS</th>\n",
       "      <th>RUSH ATT</th>\n",
       "      <th>RUSH YDS</th>\n",
       "      <th>RUSH TD</th>\n",
       "      <th>FL</th>\n",
       "      <th>G</th>\n",
       "      <th>FPTS</th>\n",
       "    </tr>\n",
       "  </thead>\n",
       "  <tbody>\n",
       "  </tbody>\n",
       "</table>\n",
       "</div>"
      ],
      "text/plain": [
       "Empty DataFrame\n",
       "Columns: [YEAR, WEEK, RANK, PLAYER, CMP, PASS ATT, PCT, PASS YDS, Y/A, PASS TD, INT, SACKS, RUSH ATT, RUSH YDS, RUSH TD, FL, G, FPTS]\n",
       "Index: []"
      ]
     },
     "execution_count": 7,
     "metadata": {},
     "output_type": "execute_result"
    }
   ],
   "source": [
    "#Check for duplicates\n",
    "df_qb_dups = df_qb[df_qb.duplicated()]\n",
    "df_qb_dups"
   ]
  },
  {
   "cell_type": "code",
   "execution_count": 8,
   "id": "435ce57f",
   "metadata": {},
   "outputs": [],
   "source": [
    "# Create path\n",
    "path = r'C:\\Users\\User\\Documents\\Final Project'"
   ]
  },
  {
   "cell_type": "code",
   "execution_count": 9,
   "id": "8907f53a",
   "metadata": {},
   "outputs": [],
   "source": [
    "# Export data\n",
    "df_qb.to_csv(os.path.join(path, 'Data','Cleaned Data', 'final_QB.csv'))"
   ]
  },
  {
   "cell_type": "code",
   "execution_count": 10,
   "id": "69b2e747",
   "metadata": {},
   "outputs": [],
   "source": [
    "#Import data\n",
    "df_rb = pd.read_csv(r'C:\\Users\\User\\Documents\\Final Project\\Data\\Cleaned Data\\RB_clean.csv', encoding='latin1')"
   ]
  },
  {
   "cell_type": "code",
   "execution_count": 11,
   "id": "b8b42717",
   "metadata": {},
   "outputs": [
    {
     "name": "stdout",
     "output_type": "stream",
     "text": [
      "<class 'pandas.core.frame.DataFrame'>\n",
      "RangeIndex: 2401 entries, 0 to 2400\n",
      "Data columns (total 21 columns):\n",
      " #   Column       Non-Null Count  Dtype  \n",
      "---  ------       --------------  -----  \n",
      " 0   YEAR         2401 non-null   int64  \n",
      " 1   WEEK         2401 non-null   int64  \n",
      " 2   RANK         2401 non-null   int64  \n",
      " 3   PLAYER       2401 non-null   object \n",
      " 4   ATT          2401 non-null   int64  \n",
      " 5   RUSH YDS     2401 non-null   int64  \n",
      " 6   Y/A          2401 non-null   float64\n",
      " 7   LG           2401 non-null   int64  \n",
      " 8   20+          2401 non-null   int64  \n",
      " 9   RUSH TD      2401 non-null   int64  \n",
      " 10  REC          2401 non-null   int64  \n",
      " 11  TGT          2401 non-null   int64  \n",
      " 12  REC YDS      2401 non-null   int64  \n",
      " 13  Y/R          2401 non-null   float64\n",
      " 14  REC TD       2401 non-null   int64  \n",
      " 15  FL           2401 non-null   int64  \n",
      " 16  G            2401 non-null   int64  \n",
      " 17  0 PPR        2401 non-null   float64\n",
      " 18  .5 PPR       2401 non-null   float64\n",
      " 19  1 PPR        2401 non-null   float64\n",
      " 20  Unnamed: 20  2401 non-null   float64\n",
      "dtypes: float64(6), int64(14), object(1)\n",
      "memory usage: 394.0+ KB\n"
     ]
    }
   ],
   "source": [
    "#Alter data type to minimize data usage\n",
    "df_rb.info()"
   ]
  },
  {
   "cell_type": "code",
   "execution_count": 12,
   "id": "8b3f8103",
   "metadata": {},
   "outputs": [],
   "source": [
    "df_rb['WEEK'] = df_rb['WEEK'].astype('int8')\n",
    "df_rb['RANK'] = df_rb['RANK'].astype('int8')\n",
    "df_rb['ATT'] = df_rb['ATT'].astype('int8')\n",
    "df_rb['RUSH YDS'] = df_rb['RUSH YDS'].astype('int8')\n",
    "df_rb['Y/A'] = df_rb['Y/A'].astype('float16')\n",
    "df_rb['LG'] = df_rb['LG'].astype('int8')\n",
    "df_rb['20+'] = df_rb['20+'].astype('int8')\n",
    "df_rb['RUSH TD'] = df_rb['RUSH TD'].astype('int8')\n",
    "df_rb['REC'] = df_rb['REC'].astype('int8')\n",
    "df_rb['TGT'] = df_rb['TGT'].astype('int8')\n",
    "df_rb['REC YDS'] = df_rb['REC YDS'].astype('int8')\n",
    "df_rb['Y/R'] = df_rb['Y/R'].astype('float16')\n",
    "df_rb['REC TD'] = df_rb['REC TD'].astype('int8')\n",
    "df_rb['FL'] = df_rb['FL'].astype('int8')\n",
    "df_rb['G'] = df_rb['G'].astype('int8')\n",
    "df_rb['0 PPR'] = df_rb['0 PPR'].astype('float16')\n",
    "df_rb['.5 PPR'] = df_rb['.5 PPR'].astype('float16')\n",
    "df_rb['1 PPR'] = df_rb['1 PPR'].astype('float16')"
   ]
  },
  {
   "cell_type": "code",
   "execution_count": 13,
   "id": "701660e6",
   "metadata": {},
   "outputs": [
    {
     "name": "stdout",
     "output_type": "stream",
     "text": [
      "<class 'pandas.core.frame.DataFrame'>\n",
      "RangeIndex: 2401 entries, 0 to 2400\n",
      "Data columns (total 21 columns):\n",
      " #   Column       Non-Null Count  Dtype  \n",
      "---  ------       --------------  -----  \n",
      " 0   YEAR         2401 non-null   int64  \n",
      " 1   WEEK         2401 non-null   int8   \n",
      " 2   RANK         2401 non-null   int8   \n",
      " 3   PLAYER       2401 non-null   object \n",
      " 4   ATT          2401 non-null   int8   \n",
      " 5   RUSH YDS     2401 non-null   int8   \n",
      " 6   Y/A          2401 non-null   float16\n",
      " 7   LG           2401 non-null   int8   \n",
      " 8   20+          2401 non-null   int8   \n",
      " 9   RUSH TD      2401 non-null   int8   \n",
      " 10  REC          2401 non-null   int8   \n",
      " 11  TGT          2401 non-null   int8   \n",
      " 12  REC YDS      2401 non-null   int8   \n",
      " 13  Y/R          2401 non-null   float16\n",
      " 14  REC TD       2401 non-null   int8   \n",
      " 15  FL           2401 non-null   int8   \n",
      " 16  G            2401 non-null   int8   \n",
      " 17  0 PPR        2401 non-null   float16\n",
      " 18  .5 PPR       2401 non-null   float16\n",
      " 19  1 PPR        2401 non-null   float16\n",
      " 20  Unnamed: 20  2401 non-null   float64\n",
      "dtypes: float16(5), float64(1), int64(1), int8(13), object(1)\n",
      "memory usage: 110.3+ KB\n"
     ]
    }
   ],
   "source": [
    "df_rb.info()"
   ]
  },
  {
   "cell_type": "code",
   "execution_count": 14,
   "id": "d2b29b05",
   "metadata": {},
   "outputs": [
    {
     "data": {
      "text/plain": [
       "YEAR           0\n",
       "WEEK           0\n",
       "RANK           0\n",
       "PLAYER         0\n",
       "ATT            0\n",
       "RUSH YDS       0\n",
       "Y/A            0\n",
       "LG             0\n",
       "20+            0\n",
       "RUSH TD        0\n",
       "REC            0\n",
       "TGT            0\n",
       "REC YDS        0\n",
       "Y/R            0\n",
       "REC TD         0\n",
       "FL             0\n",
       "G              0\n",
       "0 PPR          0\n",
       ".5 PPR         0\n",
       "1 PPR          0\n",
       "Unnamed: 20    0\n",
       "dtype: int64"
      ]
     },
     "execution_count": 14,
     "metadata": {},
     "output_type": "execute_result"
    }
   ],
   "source": [
    "#Check for missing values\n",
    "df_rb.isnull().sum()"
   ]
  },
  {
   "cell_type": "code",
   "execution_count": 15,
   "id": "73a9a35c",
   "metadata": {},
   "outputs": [
    {
     "data": {
      "text/html": [
       "<div>\n",
       "<style scoped>\n",
       "    .dataframe tbody tr th:only-of-type {\n",
       "        vertical-align: middle;\n",
       "    }\n",
       "\n",
       "    .dataframe tbody tr th {\n",
       "        vertical-align: top;\n",
       "    }\n",
       "\n",
       "    .dataframe thead th {\n",
       "        text-align: right;\n",
       "    }\n",
       "</style>\n",
       "<table border=\"1\" class=\"dataframe\">\n",
       "  <thead>\n",
       "    <tr style=\"text-align: right;\">\n",
       "      <th></th>\n",
       "      <th>YEAR</th>\n",
       "      <th>WEEK</th>\n",
       "      <th>RANK</th>\n",
       "      <th>PLAYER</th>\n",
       "      <th>ATT</th>\n",
       "      <th>RUSH YDS</th>\n",
       "      <th>Y/A</th>\n",
       "      <th>LG</th>\n",
       "      <th>20+</th>\n",
       "      <th>RUSH TD</th>\n",
       "      <th>...</th>\n",
       "      <th>TGT</th>\n",
       "      <th>REC YDS</th>\n",
       "      <th>Y/R</th>\n",
       "      <th>REC TD</th>\n",
       "      <th>FL</th>\n",
       "      <th>G</th>\n",
       "      <th>0 PPR</th>\n",
       "      <th>.5 PPR</th>\n",
       "      <th>1 PPR</th>\n",
       "      <th>Unnamed: 20</th>\n",
       "    </tr>\n",
       "  </thead>\n",
       "  <tbody>\n",
       "  </tbody>\n",
       "</table>\n",
       "<p>0 rows × 21 columns</p>\n",
       "</div>"
      ],
      "text/plain": [
       "Empty DataFrame\n",
       "Columns: [YEAR, WEEK, RANK, PLAYER, ATT, RUSH YDS, Y/A, LG, 20+, RUSH TD, REC, TGT, REC YDS, Y/R, REC TD, FL, G, 0 PPR, .5 PPR, 1 PPR, Unnamed: 20]\n",
       "Index: []\n",
       "\n",
       "[0 rows x 21 columns]"
      ]
     },
     "execution_count": 15,
     "metadata": {},
     "output_type": "execute_result"
    }
   ],
   "source": [
    "#Check for duplicates\n",
    "df_rb_dups = df_rb[df_rb.duplicated()]\n",
    "df_rb_dups"
   ]
  },
  {
   "cell_type": "code",
   "execution_count": 16,
   "id": "56cdff10",
   "metadata": {},
   "outputs": [],
   "source": [
    "# Export data\n",
    "df_rb.to_csv(os.path.join(path, 'Data','Cleaned Data', 'final_RB.csv'))"
   ]
  },
  {
   "cell_type": "code",
   "execution_count": 17,
   "id": "2110b11c",
   "metadata": {},
   "outputs": [],
   "source": [
    "#Import data\n",
    "df_wr = pd.read_csv(r'C:\\Users\\User\\Documents\\Final Project\\Data\\Cleaned Data\\WR_clean.csv', encoding='latin1')"
   ]
  },
  {
   "cell_type": "code",
   "execution_count": 18,
   "id": "d506cf40",
   "metadata": {},
   "outputs": [
    {
     "name": "stdout",
     "output_type": "stream",
     "text": [
      "<class 'pandas.core.frame.DataFrame'>\n",
      "RangeIndex: 3326 entries, 0 to 3325\n",
      "Data columns (total 19 columns):\n",
      " #   Column    Non-Null Count  Dtype  \n",
      "---  ------    --------------  -----  \n",
      " 0   YEAR      3326 non-null   int64  \n",
      " 1   WEEK      3326 non-null   int64  \n",
      " 2   RANK      3326 non-null   int64  \n",
      " 3   PLAYER    3326 non-null   object \n",
      " 4   REC       3326 non-null   int64  \n",
      " 5   TGT       3326 non-null   int64  \n",
      " 6   REC YDS   3326 non-null   int64  \n",
      " 7   Y/R       3326 non-null   float64\n",
      " 8   LG        3326 non-null   int64  \n",
      " 9   20+       3326 non-null   int64  \n",
      " 10  REC TD    3326 non-null   int64  \n",
      " 11  ATT       3326 non-null   int64  \n",
      " 12  RUSH YDS  3326 non-null   int64  \n",
      " 13  RUSH TD   3326 non-null   int64  \n",
      " 14  FL        3326 non-null   int64  \n",
      " 15  G         3326 non-null   int64  \n",
      " 16  0 PPR     3326 non-null   float64\n",
      " 17  .5 PPR    3326 non-null   float64\n",
      " 18  1 PPR     3326 non-null   float64\n",
      "dtypes: float64(4), int64(14), object(1)\n",
      "memory usage: 493.8+ KB\n"
     ]
    }
   ],
   "source": [
    "#Alter data type to minimize data usage\n",
    "df_wr.info()"
   ]
  },
  {
   "cell_type": "code",
   "execution_count": 19,
   "id": "c70ffd5c",
   "metadata": {},
   "outputs": [],
   "source": [
    "df_wr['WEEK'] = df_wr['WEEK'].astype('float16')\n",
    "df_wr['RANK'] = df_wr['RANK'].astype('float16')\n",
    "df_wr['REC'] = df_wr['REC'].astype('float16')\n",
    "df_wr['TGT'] = df_wr['TGT'].astype('float16')\n",
    "df_wr['REC YDS'] = df_wr['REC YDS'].astype('float16')\n",
    "df_wr['Y/R'] = df_wr['Y/R'].astype('float16')\n",
    "df_wr['LG'] = df_wr['LG'].astype('float16')\n",
    "df_wr['20+'] = df_wr['20+'].astype('float16')\n",
    "df_wr['REC TD'] = df_wr['REC TD'].astype('float16')\n",
    "df_wr['ATT'] = df_wr['ATT'].astype('float16')\n",
    "df_wr['RUSH YDS'] = df_wr['RUSH YDS'].astype('float16')\n",
    "df_wr['RUSH TD'] = df_wr['RUSH TD'].astype('float16')\n",
    "df_wr['FL'] = df_wr['FL'].astype('float16')\n",
    "df_wr['0 PPR'] = df_wr['0 PPR'].astype('float16')\n",
    "df_wr['.5 PPR'] = df_wr['.5 PPR'].astype('float16')\n",
    "df_wr['1 PPR'] = df_wr['1 PPR'].astype('float16')"
   ]
  },
  {
   "cell_type": "code",
   "execution_count": 20,
   "id": "428819b0",
   "metadata": {},
   "outputs": [
    {
     "data": {
      "text/plain": [
       "YEAR        0\n",
       "WEEK        0\n",
       "RANK        0\n",
       "PLAYER      0\n",
       "REC         0\n",
       "TGT         0\n",
       "REC YDS     0\n",
       "Y/R         0\n",
       "LG          0\n",
       "20+         0\n",
       "REC TD      0\n",
       "ATT         0\n",
       "RUSH YDS    0\n",
       "RUSH TD     0\n",
       "FL          0\n",
       "G           0\n",
       "0 PPR       0\n",
       ".5 PPR      0\n",
       "1 PPR       0\n",
       "dtype: int64"
      ]
     },
     "execution_count": 20,
     "metadata": {},
     "output_type": "execute_result"
    }
   ],
   "source": [
    "#Check for missing values\n",
    "df_wr.isnull().sum()"
   ]
  },
  {
   "cell_type": "code",
   "execution_count": 21,
   "id": "ea5b8675",
   "metadata": {},
   "outputs": [
    {
     "data": {
      "text/html": [
       "<div>\n",
       "<style scoped>\n",
       "    .dataframe tbody tr th:only-of-type {\n",
       "        vertical-align: middle;\n",
       "    }\n",
       "\n",
       "    .dataframe tbody tr th {\n",
       "        vertical-align: top;\n",
       "    }\n",
       "\n",
       "    .dataframe thead th {\n",
       "        text-align: right;\n",
       "    }\n",
       "</style>\n",
       "<table border=\"1\" class=\"dataframe\">\n",
       "  <thead>\n",
       "    <tr style=\"text-align: right;\">\n",
       "      <th></th>\n",
       "      <th>YEAR</th>\n",
       "      <th>WEEK</th>\n",
       "      <th>RANK</th>\n",
       "      <th>PLAYER</th>\n",
       "      <th>REC</th>\n",
       "      <th>TGT</th>\n",
       "      <th>REC YDS</th>\n",
       "      <th>Y/R</th>\n",
       "      <th>LG</th>\n",
       "      <th>20+</th>\n",
       "      <th>REC TD</th>\n",
       "      <th>ATT</th>\n",
       "      <th>RUSH YDS</th>\n",
       "      <th>RUSH TD</th>\n",
       "      <th>FL</th>\n",
       "      <th>G</th>\n",
       "      <th>0 PPR</th>\n",
       "      <th>.5 PPR</th>\n",
       "      <th>1 PPR</th>\n",
       "    </tr>\n",
       "  </thead>\n",
       "  <tbody>\n",
       "  </tbody>\n",
       "</table>\n",
       "</div>"
      ],
      "text/plain": [
       "Empty DataFrame\n",
       "Columns: [YEAR, WEEK, RANK, PLAYER, REC, TGT, REC YDS, Y/R, LG, 20+, REC TD, ATT, RUSH YDS, RUSH TD, FL, G, 0 PPR, .5 PPR, 1 PPR]\n",
       "Index: []"
      ]
     },
     "execution_count": 21,
     "metadata": {},
     "output_type": "execute_result"
    }
   ],
   "source": [
    "#Check for duplicates\n",
    "df_wr_dups = df_wr[df_wr.duplicated()]\n",
    "df_wr_dups"
   ]
  },
  {
   "cell_type": "code",
   "execution_count": 22,
   "id": "df790a06",
   "metadata": {},
   "outputs": [],
   "source": [
    "# Export data\n",
    "df_wr.to_csv(os.path.join(path, 'Data','Cleaned Data', 'final_WR.csv'))"
   ]
  },
  {
   "cell_type": "code",
   "execution_count": 23,
   "id": "3684790a",
   "metadata": {},
   "outputs": [],
   "source": [
    "#Import data\n",
    "df_te = pd.read_csv(r'C:\\Users\\User\\Documents\\Final Project\\Data\\Cleaned Data\\TE_clean.csv', encoding='latin1')"
   ]
  },
  {
   "cell_type": "code",
   "execution_count": 24,
   "id": "e75ca0d5",
   "metadata": {},
   "outputs": [
    {
     "name": "stdout",
     "output_type": "stream",
     "text": [
      "<class 'pandas.core.frame.DataFrame'>\n",
      "RangeIndex: 1376 entries, 0 to 1375\n",
      "Data columns (total 19 columns):\n",
      " #   Column    Non-Null Count  Dtype  \n",
      "---  ------    --------------  -----  \n",
      " 0   YEAR      1376 non-null   int64  \n",
      " 1   WEEK      1376 non-null   int64  \n",
      " 2   RANK      1376 non-null   int64  \n",
      " 3   PLAYER    1376 non-null   object \n",
      " 4   REC       1376 non-null   int64  \n",
      " 5   TGT       1376 non-null   int64  \n",
      " 6   REC YDS   1376 non-null   int64  \n",
      " 7   Y/R       1376 non-null   float64\n",
      " 8   LG        1376 non-null   int64  \n",
      " 9   20+       1376 non-null   int64  \n",
      " 10  REC TD    1376 non-null   int64  \n",
      " 11  ATT       1376 non-null   int64  \n",
      " 12  RUSH YDS  1376 non-null   int64  \n",
      " 13  RUSH TD   1376 non-null   int64  \n",
      " 14  FL        1376 non-null   int64  \n",
      " 15  G         1376 non-null   int64  \n",
      " 16  0 PPR     1376 non-null   float64\n",
      " 17  .5 PPR    1376 non-null   float64\n",
      " 18  1 PPR     1376 non-null   float64\n",
      "dtypes: float64(4), int64(14), object(1)\n",
      "memory usage: 204.4+ KB\n"
     ]
    }
   ],
   "source": [
    "#Alter data type to minimize data usage\n",
    "df_te.info()"
   ]
  },
  {
   "cell_type": "code",
   "execution_count": 25,
   "id": "09fc617c",
   "metadata": {},
   "outputs": [],
   "source": [
    "df_te['WEEK'] = df_te['WEEK'].astype('int8')\n",
    "df_te['RANK'] = df_te['RANK'].astype('int8')\n",
    "df_te['REC'] = df_te['REC'].astype('int8')\n",
    "df_te['TGT'] = df_te['TGT'].astype('int8')\n",
    "df_te['REC YDS'] = df_te['REC YDS'].astype('int8')\n",
    "df_te['Y/R'] = df_te['Y/R'].astype('float16')\n",
    "df_te['LG'] = df_te['LG'].astype('int8')\n",
    "df_te['20+'] = df_te['20+'].astype('int8')\n",
    "df_te['REC TD'] = df_te['REC TD'].astype('int8')\n",
    "df_te['ATT'] = df_te['ATT'].astype('int8')\n",
    "df_te['RUSH YDS'] = df_te['RUSH YDS'].astype('int8')\n",
    "df_te['RUSH TD'] = df_te['RUSH TD'].astype('int8')\n",
    "df_te['FL'] = df_te['FL'].astype('int8')\n",
    "df_te['G'] = df_te['G'].astype('int8')\n",
    "df_te['0 PPR'] = df_te['0 PPR'].astype('float16')\n",
    "df_te['.5 PPR'] = df_te['.5 PPR'].astype('float16')\n",
    "df_te['1 PPR'] = df_te['1 PPR'].astype('float16')"
   ]
  },
  {
   "cell_type": "code",
   "execution_count": 26,
   "id": "c3d82311",
   "metadata": {},
   "outputs": [
    {
     "name": "stdout",
     "output_type": "stream",
     "text": [
      "<class 'pandas.core.frame.DataFrame'>\n",
      "RangeIndex: 1376 entries, 0 to 1375\n",
      "Data columns (total 19 columns):\n",
      " #   Column    Non-Null Count  Dtype  \n",
      "---  ------    --------------  -----  \n",
      " 0   YEAR      1376 non-null   int64  \n",
      " 1   WEEK      1376 non-null   int8   \n",
      " 2   RANK      1376 non-null   int8   \n",
      " 3   PLAYER    1376 non-null   object \n",
      " 4   REC       1376 non-null   int8   \n",
      " 5   TGT       1376 non-null   int8   \n",
      " 6   REC YDS   1376 non-null   int8   \n",
      " 7   Y/R       1376 non-null   float16\n",
      " 8   LG        1376 non-null   int8   \n",
      " 9   20+       1376 non-null   int8   \n",
      " 10  REC TD    1376 non-null   int8   \n",
      " 11  ATT       1376 non-null   int8   \n",
      " 12  RUSH YDS  1376 non-null   int8   \n",
      " 13  RUSH TD   1376 non-null   int8   \n",
      " 14  FL        1376 non-null   int8   \n",
      " 15  G         1376 non-null   int8   \n",
      " 16  0 PPR     1376 non-null   float16\n",
      " 17  .5 PPR    1376 non-null   float16\n",
      " 18  1 PPR     1376 non-null   float16\n",
      "dtypes: float16(4), int64(1), int8(13), object(1)\n",
      "memory usage: 49.8+ KB\n"
     ]
    }
   ],
   "source": [
    "df_te.info()"
   ]
  },
  {
   "cell_type": "code",
   "execution_count": 27,
   "id": "b6738239",
   "metadata": {},
   "outputs": [
    {
     "data": {
      "text/plain": [
       "YEAR        0\n",
       "WEEK        0\n",
       "RANK        0\n",
       "PLAYER      0\n",
       "REC         0\n",
       "TGT         0\n",
       "REC YDS     0\n",
       "Y/R         0\n",
       "LG          0\n",
       "20+         0\n",
       "REC TD      0\n",
       "ATT         0\n",
       "RUSH YDS    0\n",
       "RUSH TD     0\n",
       "FL          0\n",
       "G           0\n",
       "0 PPR       0\n",
       ".5 PPR      0\n",
       "1 PPR       0\n",
       "dtype: int64"
      ]
     },
     "execution_count": 27,
     "metadata": {},
     "output_type": "execute_result"
    }
   ],
   "source": [
    "#Check for missing values\n",
    "df_te.isnull().sum()"
   ]
  },
  {
   "cell_type": "code",
   "execution_count": 28,
   "id": "ddd43c0e",
   "metadata": {},
   "outputs": [
    {
     "data": {
      "text/html": [
       "<div>\n",
       "<style scoped>\n",
       "    .dataframe tbody tr th:only-of-type {\n",
       "        vertical-align: middle;\n",
       "    }\n",
       "\n",
       "    .dataframe tbody tr th {\n",
       "        vertical-align: top;\n",
       "    }\n",
       "\n",
       "    .dataframe thead th {\n",
       "        text-align: right;\n",
       "    }\n",
       "</style>\n",
       "<table border=\"1\" class=\"dataframe\">\n",
       "  <thead>\n",
       "    <tr style=\"text-align: right;\">\n",
       "      <th></th>\n",
       "      <th>YEAR</th>\n",
       "      <th>WEEK</th>\n",
       "      <th>RANK</th>\n",
       "      <th>PLAYER</th>\n",
       "      <th>REC</th>\n",
       "      <th>TGT</th>\n",
       "      <th>REC YDS</th>\n",
       "      <th>Y/R</th>\n",
       "      <th>LG</th>\n",
       "      <th>20+</th>\n",
       "      <th>REC TD</th>\n",
       "      <th>ATT</th>\n",
       "      <th>RUSH YDS</th>\n",
       "      <th>RUSH TD</th>\n",
       "      <th>FL</th>\n",
       "      <th>G</th>\n",
       "      <th>0 PPR</th>\n",
       "      <th>.5 PPR</th>\n",
       "      <th>1 PPR</th>\n",
       "    </tr>\n",
       "  </thead>\n",
       "  <tbody>\n",
       "  </tbody>\n",
       "</table>\n",
       "</div>"
      ],
      "text/plain": [
       "Empty DataFrame\n",
       "Columns: [YEAR, WEEK, RANK, PLAYER, REC, TGT, REC YDS, Y/R, LG, 20+, REC TD, ATT, RUSH YDS, RUSH TD, FL, G, 0 PPR, .5 PPR, 1 PPR]\n",
       "Index: []"
      ]
     },
     "execution_count": 28,
     "metadata": {},
     "output_type": "execute_result"
    }
   ],
   "source": [
    "#Check for duplicates\n",
    "df_te_dups = df_te[df_te.duplicated()]\n",
    "df_te_dups"
   ]
  },
  {
   "cell_type": "code",
   "execution_count": 29,
   "id": "490c74bc",
   "metadata": {},
   "outputs": [],
   "source": [
    "# Export data\n",
    "df_te.to_csv(os.path.join(path, 'Data','Cleaned Data', 'final_TE.csv'))"
   ]
  },
  {
   "cell_type": "code",
   "execution_count": 30,
   "id": "579f250a",
   "metadata": {},
   "outputs": [],
   "source": [
    "#Import data\n",
    "df_fa = pd.read_csv(r'C:\\Users\\User\\Documents\\Final Project\\Data\\Cleaned Data\\FA_clean.csv', encoding='latin1')"
   ]
  },
  {
   "cell_type": "code",
   "execution_count": 31,
   "id": "046538fd",
   "metadata": {},
   "outputs": [
    {
     "name": "stdout",
     "output_type": "stream",
     "text": [
      "<class 'pandas.core.frame.DataFrame'>\n",
      "RangeIndex: 173 entries, 0 to 172\n",
      "Data columns (total 7 columns):\n",
      " #   Column        Non-Null Count  Dtype \n",
      "---  ------        --------------  ----- \n",
      " 0   Year          173 non-null    int64 \n",
      " 1   Player        173 non-null    object\n",
      " 2   From          173 non-null    object\n",
      " 3   To            173 non-null    object\n",
      " 4    Value (Ms)   173 non-null    object\n",
      " 5   Tax Rate      173 non-null    object\n",
      " 6   Tax Est (Ms)  173 non-null    object\n",
      "dtypes: int64(1), object(6)\n",
      "memory usage: 9.6+ KB\n"
     ]
    }
   ],
   "source": [
    "#Alter data type to minimize data usage\n",
    "df_fa.info()"
   ]
  },
  {
   "cell_type": "code",
   "execution_count": 32,
   "id": "d2157ca6",
   "metadata": {},
   "outputs": [
    {
     "name": "stdout",
     "output_type": "stream",
     "text": [
      "<class 'pandas.core.frame.DataFrame'>\n",
      "RangeIndex: 173 entries, 0 to 172\n",
      "Data columns (total 7 columns):\n",
      " #   Column        Non-Null Count  Dtype \n",
      "---  ------        --------------  ----- \n",
      " 0   Year          173 non-null    int64 \n",
      " 1   Player        173 non-null    object\n",
      " 2   From          173 non-null    object\n",
      " 3   To            173 non-null    object\n",
      " 4    Value (Ms)   173 non-null    object\n",
      " 5   Tax Rate      173 non-null    object\n",
      " 6   Tax Est (Ms)  173 non-null    object\n",
      "dtypes: int64(1), object(6)\n",
      "memory usage: 9.6+ KB\n"
     ]
    }
   ],
   "source": [
    "df_fa.info()"
   ]
  },
  {
   "cell_type": "code",
   "execution_count": 33,
   "id": "248026cd",
   "metadata": {},
   "outputs": [
    {
     "data": {
      "text/plain": [
       "Year            0\n",
       "Player          0\n",
       "From            0\n",
       "To              0\n",
       " Value (Ms)     0\n",
       "Tax Rate        0\n",
       "Tax Est (Ms)    0\n",
       "dtype: int64"
      ]
     },
     "execution_count": 33,
     "metadata": {},
     "output_type": "execute_result"
    }
   ],
   "source": [
    "#Check for missing values\n",
    "df_fa.isnull().sum()"
   ]
  },
  {
   "cell_type": "code",
   "execution_count": 34,
   "id": "2eb05e8e",
   "metadata": {},
   "outputs": [
    {
     "data": {
      "text/html": [
       "<div>\n",
       "<style scoped>\n",
       "    .dataframe tbody tr th:only-of-type {\n",
       "        vertical-align: middle;\n",
       "    }\n",
       "\n",
       "    .dataframe tbody tr th {\n",
       "        vertical-align: top;\n",
       "    }\n",
       "\n",
       "    .dataframe thead th {\n",
       "        text-align: right;\n",
       "    }\n",
       "</style>\n",
       "<table border=\"1\" class=\"dataframe\">\n",
       "  <thead>\n",
       "    <tr style=\"text-align: right;\">\n",
       "      <th></th>\n",
       "      <th>Year</th>\n",
       "      <th>Player</th>\n",
       "      <th>From</th>\n",
       "      <th>To</th>\n",
       "      <th>Value (Ms)</th>\n",
       "      <th>Tax Rate</th>\n",
       "      <th>Tax Est (Ms)</th>\n",
       "    </tr>\n",
       "  </thead>\n",
       "  <tbody>\n",
       "  </tbody>\n",
       "</table>\n",
       "</div>"
      ],
      "text/plain": [
       "Empty DataFrame\n",
       "Columns: [Year, Player, From, To,  Value (Ms) , Tax Rate, Tax Est (Ms)]\n",
       "Index: []"
      ]
     },
     "execution_count": 34,
     "metadata": {},
     "output_type": "execute_result"
    }
   ],
   "source": [
    "#Check for duplicates\n",
    "df_fa_dups = df_fa[df_fa.duplicated()]\n",
    "df_fa_dups"
   ]
  },
  {
   "cell_type": "code",
   "execution_count": 35,
   "id": "b7223725",
   "metadata": {},
   "outputs": [],
   "source": [
    "# Export data\n",
    "df_fa.to_csv(os.path.join(path, 'Data','Cleaned Data', 'final_FA.csv'))"
   ]
  }
 ],
 "metadata": {
  "kernelspec": {
   "display_name": "Python 3 (ipykernel)",
   "language": "python",
   "name": "python3"
  },
  "language_info": {
   "codemirror_mode": {
    "name": "ipython",
    "version": 3
   },
   "file_extension": ".py",
   "mimetype": "text/x-python",
   "name": "python",
   "nbconvert_exporter": "python",
   "pygments_lexer": "ipython3",
   "version": "3.9.12"
  }
 },
 "nbformat": 4,
 "nbformat_minor": 5
}
